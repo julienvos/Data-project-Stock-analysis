{
  "nbformat": 4,
  "nbformat_minor": 0,
  "metadata": {
    "colab": {
      "name": "Algo trading ML Version 2.ipynb",
      "provenance": [],
      "collapsed_sections": [
        "LgPds3PZ5OKU",
        "0yOfTrYE5Hns",
        "egh8GEcZ-UQi",
        "rw0i6lTk5Rcp",
        "5m-XnV3w5bBu",
        "MfCZ4TdleDph",
        "7DPSPeL4ewuy",
        "iLp3Ichie0C3",
        "kYnBnB7ve3N5",
        "7GHBWiD1IPxz",
        "U8fKrF2C5iIk",
        "IO7Y0Kiz0Tg9",
        "OhmKiqnXAvSy",
        "n1KLFg11Ayjz",
        "npDCYlfv0XK2",
        "NaIctzFN0eS1",
        "NuiujBuE-4RT",
        "xgXEK_Mv6SL6"
      ],
      "authorship_tag": "ABX9TyOn/Z/bQQx3xGPw2bBAYlfu",
      "include_colab_link": true
    },
    "kernelspec": {
      "name": "python3",
      "display_name": "Python 3"
    }
  },
  "cells": [
    {
      "cell_type": "markdown",
      "metadata": {
        "id": "view-in-github",
        "colab_type": "text"
      },
      "source": [
        "<a href=\"https://colab.research.google.com/github/julienvos/Stock-analysis/blob/main/Algo_trading_ML_Version_2.ipynb\" target=\"_parent\"><img src=\"https://colab.research.google.com/assets/colab-badge.svg\" alt=\"Open In Colab\"/></a>"
      ]
    },
    {
      "cell_type": "markdown",
      "metadata": {
        "id": "poYTlrBS13Ek"
      },
      "source": [
        "# Stock analysis\n",
        "\n",
        "Notebook to predict x % amount of increase of the closing price in y days ahead of time"
      ]
    },
    {
      "cell_type": "markdown",
      "metadata": {
        "id": "LgPds3PZ5OKU"
      },
      "source": [
        "# Import packages"
      ]
    },
    {
      "cell_type": "code",
      "metadata": {
        "id": "IeD6IrPuvIGX"
      },
      "source": [
        "!pip install yfinance\n",
        "#!pip install alpha_vantage\n",
        "!pip install -U scikit-learn"
      ],
      "execution_count": null,
      "outputs": []
    },
    {
      "cell_type": "code",
      "metadata": {
        "id": "hw1VcwfzbHGA"
      },
      "source": [
        "!pip install dash-renderer\n",
        "!pip install dash-html-components\n",
        "!pip install dash-core-components\n",
        "\n",
        "!pip install jupyter-dash"
      ],
      "execution_count": null,
      "outputs": []
    },
    {
      "cell_type": "code",
      "metadata": {
        "id": "gtT2YvDPxtRK"
      },
      "source": [
        "import yfinance as yf\n",
        "#from alpha_vantage.timeseries import TimeSeries\n",
        "#from alpha_vantage.techindicators import TechIndicators\n",
        "import datetime\n",
        "import xgboost"
      ],
      "execution_count": null,
      "outputs": []
    },
    {
      "cell_type": "code",
      "metadata": {
        "id": "9fp6ihn3xGCN"
      },
      "source": [
        "import pandas as pd\n",
        "import numpy as np\n",
        "import matplotlib.pyplot as plt\n",
        "import xgboost as xgb\n",
        "from sklearn.ensemble import AdaBoostRegressor"
      ],
      "execution_count": null,
      "outputs": []
    },
    {
      "cell_type": "code",
      "metadata": {
        "id": "ARW_FM1pa7er"
      },
      "source": [
        "import dash_core_components as dcc\n",
        "import dash_html_components as html\n",
        "from dash.dependencies import Input, Output, State\n",
        "from jupyter_dash import JupyterDash\n",
        "import plotly.express as px\n",
        "import plotly.graph_objects as go"
      ],
      "execution_count": null,
      "outputs": []
    },
    {
      "cell_type": "markdown",
      "metadata": {
        "id": "0yOfTrYE5Hns"
      },
      "source": [
        "# The Functions to fetch the data and to calculate the technical indicators"
      ]
    },
    {
      "cell_type": "markdown",
      "metadata": {
        "id": "egh8GEcZ-UQi"
      },
      "source": [
        "## Yahoo stock data"
      ]
    },
    {
      "cell_type": "code",
      "metadata": {
        "id": "gAr9LVVg_hNM"
      },
      "source": [
        "def data_yahoo(tickers, period= \"5y\"):\n",
        "  data = yf.download(  # or pdr.get_data_yahoo(...\n",
        "          # tickers list or string as well\n",
        "          tickers = tickers,\n",
        "\n",
        "          # use \"period\" instead of start/end\n",
        "          # valid periods: 1d,5d,1mo,3mo,6mo,1y,2y,5y,10y,ytd,max\n",
        "          # (optional, default is '1mo')\n",
        "          period = period,\n",
        "\n",
        "          # fetch data by interval (including intraday if period < 60 days)\n",
        "          # valid intervals: 1m,2m,5m,15m,30m,60m,90m,1h,1d,5d,1wk,1mo,3mo\n",
        "          # (optional, default is '1d')\n",
        "          interval = \"1d\",\n",
        "\n",
        "          # group by ticker (to access via data['SPY'])\n",
        "          # (optional, default is 'column')\n",
        "          group_by = 'ticker',\n",
        "\n",
        "          # adjust all OHLC automatically\n",
        "          # (optional, default is False)\n",
        "          auto_adjust = True,\n",
        "\n",
        "          # download pre/post regular market hours data\n",
        "          # (optional, default is False)\n",
        "          prepost = True,\n",
        "\n",
        "          # use threads for mass downloading? (True/False/Integer)\n",
        "          # (optional, default is True)\n",
        "          threads = True,\n",
        "\n",
        "          # proxy URL scheme use use when downloading?\n",
        "          # (optional, default is None)\n",
        "          proxy = None\n",
        "      )\n",
        "  return data"
      ],
      "execution_count": null,
      "outputs": []
    },
    {
      "cell_type": "markdown",
      "metadata": {
        "id": "rw0i6lTk5Rcp"
      },
      "source": [
        "### RSI function"
      ]
    },
    {
      "cell_type": "code",
      "metadata": {
        "id": "YJowmeT1Z_Pk"
      },
      "source": [
        "def get_RSI(close_price, window_length=14):\n",
        "\n",
        "  # Get the % difference in price from previous step (or the diff())\n",
        "  delta = close_price.pct_change()\n",
        "\n",
        "  # Get rid of the first row, which is NaN since it did not have a previous \n",
        "  # row to calculate the differences\n",
        "  delta = delta.iloc[1:]\n",
        "\n",
        "  # Make the positive gains (up) and negative gains (down) Series\n",
        "  up, down = delta.copy(), delta.copy()\n",
        "  up[up < 0] = 0\n",
        "  down[down > 0] = 0\n",
        "\n",
        "  # Calculate the EWMA\n",
        "  roll_up1 = up.ewm(span=window_length).mean()\n",
        "  smooth_roll_up1 = roll_up1.shift(1) * (window_length - 1) + roll_up1 #added to smooth the result\n",
        "  roll_down1 = down.abs().ewm(span=window_length).mean()\n",
        "  smooth_roll_down1 = roll_down1.shift(1) * (window_length - 1) + roll_down1 # added to smooth the result\n",
        "\n",
        "  # Calculate the RSI based on EWMA\n",
        "  RS1 = smooth_roll_up1 / smooth_roll_down1\n",
        "  RSI1 = 100.0 - (100.0 / (1.0 + RS1))\n",
        "\n",
        "\n",
        "  # Calculate the SMA\n",
        "  roll_up2 = up.rolling(window_length).mean()\n",
        "  smooth_roll_up2 = roll_up2.shift(1) * (window_length - 1) + roll_up2 #added to smooth the result\n",
        "  roll_down2 = down.abs().rolling(window_length).mean()\n",
        "  smooth_roll_down2 = roll_down2.shift(1) * (window_length - 1) + roll_down2 #added to smooth the result\n",
        "\n",
        "  # Calculate the RSI based on SMA\n",
        "  RS2 = smooth_roll_up2 / smooth_roll_down2\n",
        "  RSI2 = 100.0 - (100.0 / (1.0 + RS2))\n",
        "\n",
        "  return pd.Series(RSI1, name='RSI_EMA')\n"
      ],
      "execution_count": null,
      "outputs": []
    },
    {
      "cell_type": "markdown",
      "metadata": {
        "id": "5m-XnV3w5bBu"
      },
      "source": [
        "### MACD function"
      ]
    },
    {
      "cell_type": "code",
      "metadata": {
        "id": "5EfdhmHUzqtZ"
      },
      "source": [
        "def get_MACD(close_price, short_window=12, long_window=26):\n",
        "  short_ema = 0.15 * close_price + 0.85 * close_price.ewm(span=short_window).mean().shift(1)\n",
        "  long_ema = 0.075 * close_price + 0.925 * close_price.ewm(span=long_window).mean().shift(1)\n",
        "\n",
        "  MACD = short_ema - long_ema\n",
        "\n",
        "  return pd.Series(MACD, name='MACD')"
      ],
      "execution_count": null,
      "outputs": []
    },
    {
      "cell_type": "markdown",
      "metadata": {
        "id": "0tnrOLI7LBmz"
      },
      "source": [
        "## Technical indicator functions"
      ]
    },
    {
      "cell_type": "markdown",
      "metadata": {
        "id": "MfCZ4TdleDph"
      },
      "source": [
        "### Volatility"
      ]
    },
    {
      "cell_type": "code",
      "metadata": {
        "id": "stgDE1eyeB5j"
      },
      "source": [
        "def get_volatility(stock_close, period=75):\n",
        "\n",
        "\n",
        "  daily_pct_change = stock_close.pct_change()\n",
        "  vol = daily_pct_change.rolling(period).std() * np.sqrt(period)\n",
        "\n",
        "  return pd.Series(vol.values, name='volatility', dtype='float', index=stock_close.index).fillna(np.median(vol.dropna())) #fill the nan's with median value"
      ],
      "execution_count": null,
      "outputs": []
    },
    {
      "cell_type": "markdown",
      "metadata": {
        "id": "7DPSPeL4ewuy"
      },
      "source": [
        "###log returns"
      ]
    },
    {
      "cell_type": "code",
      "metadata": {
        "id": "pV9G5ZiJ8htJ"
      },
      "source": [
        "def avg_log_returns(close_price, avg_period=[10]):\n",
        "\n",
        "  \"\"\"\n",
        "  returns log returns\n",
        "  \"\"\"\n",
        "  daily_log_returns_shift = pd.DataFrame(np.log(close_price / close_price.shift(1)))\n",
        "\n",
        "  log_return = pd.DataFrame(index=close_price.index)\n",
        "\n",
        "  for x in avg_period:\n",
        "    log_return[\"log_return_{}_days\".format(x)] = daily_log_returns_shift.rolling(x).sum()\n",
        "\n",
        "  return log_return.fillna(0)"
      ],
      "execution_count": null,
      "outputs": []
    },
    {
      "cell_type": "markdown",
      "metadata": {
        "id": "iLp3Ichie0C3"
      },
      "source": [
        "###Ratio close price"
      ]
    },
    {
      "cell_type": "code",
      "metadata": {
        "id": "l-yoxUlyDE1x"
      },
      "source": [
        "def ratio_avg_close_price(close_price, past_days=[10]):\n",
        "\n",
        "  ratio = pd.DataFrame(index=close_price.index)\n",
        "  for x in past_days:\n",
        "    ratio['ratio_close_price_{}_days'.format(x)] = close_price / close_price.rolling(x).mean()\n",
        "  return ratio.fillna(1) # fill the first rows with 1 as a ratio"
      ],
      "execution_count": null,
      "outputs": []
    },
    {
      "cell_type": "markdown",
      "metadata": {
        "id": "kYnBnB7ve3N5"
      },
      "source": [
        "###Target Data"
      ]
    },
    {
      "cell_type": "code",
      "metadata": {
        "id": "9So_TsMBn98t"
      },
      "source": [
        "def create_target_data(close_price, period=10, percent=5):\n",
        "\n",
        "  \"\"\"\n",
        "  Calculates the moments in time where the stock goes  x % up or down after y days in the future\n",
        "\n",
        "  periods: These are the y days in the future\n",
        "\n",
        "  percents: These are the %'s up or down after period y\n",
        "\n",
        "  \"\"\"\n",
        "\n",
        "  #close price x days ago\n",
        "  future_close_price = close_price.shift(period * -1)\n",
        "\n",
        "  #Did the close price went ..  % up in the past x days?\n",
        "  percentage = percent/100 + 1\n",
        "\n",
        "  #df with booleans\n",
        "  target = future_close_price >= (percentage * close_price) # target is raw since it has a lot of sequences of ones\n",
        "\n",
        "  #ones and zeros\n",
        "  target = target.fillna(0) * 1 #fillna to fill the Nan's\n",
        "\n",
        "  #signal\n",
        "  # target = target.diff() # mention only the moments when the price STARTS to go up or down after y days\n",
        "\n",
        "  return pd.Series(data=target.values, name='target', dtype='int', index=close_price.index)"
      ],
      "execution_count": null,
      "outputs": []
    },
    {
      "cell_type": "markdown",
      "metadata": {
        "id": "p9zaAnMTNVTo"
      },
      "source": [
        "\n",
        "\n",
        "```\n",
        "#   # Loop over percentages and look forward periods\n",
        "\n",
        "  if periods == None:\n",
        "    periods = [5,10,20,30,60]\n",
        " \n",
        "  if percents == None:\n",
        "    percents = [3,5,10,15,20]\n",
        " \n",
        "  assert type(periods) == list and type(percents) == list, \"Please define a list type for periods and/or percents\"\n",
        " \n",
        "  booleans = pd.DataFrame(index=close_price.index)\n",
        " \n",
        "  for period in periods:\n",
        "    for percent in percents:\n",
        "```\n",
        "\n"
      ]
    },
    {
      "cell_type": "markdown",
      "metadata": {
        "id": "RXkT5ylS5Yks"
      },
      "source": [
        "# Output of the functions"
      ]
    },
    {
      "cell_type": "markdown",
      "metadata": {
        "id": "Z7het7mK92UW"
      },
      "source": [
        "## yahoo finance"
      ]
    },
    {
      "cell_type": "markdown",
      "metadata": {
        "id": "7GHBWiD1IPxz"
      },
      "source": [
        "### Full version of the function"
      ]
    },
    {
      "cell_type": "code",
      "metadata": {
        "id": "Fr3BX16eMQPR"
      },
      "source": [
        "def total_stock(stock_names, period='1y', target_period=10, target_percent=5):\n",
        "\n",
        "  assert type(stock_names) == list, \"stock_names should be a list\"\n",
        "  \n",
        "  ordered_df = pd.DataFrame() #empty dataframe\n",
        "  data = data_yahoo(stock_names, period=period)\n",
        "\n",
        "  for stock in stock_names:\n",
        "\n",
        "    if len(stock_names) > 1:\n",
        "      stock_data = data[stock].copy() # data from 1 stock\n",
        "    else:\n",
        "      stock_data = data.copy()\n",
        "\n",
        "    #label of the stock\n",
        "    label = pd.Series(index=stock_data.index, name='stock_name', dtype='object').fillna(stock)\n",
        "\n",
        "    #close price\n",
        "    stock_close = stock_data['Close']\n",
        "\n",
        "    #RSI\n",
        "    RSI = get_RSI(stock_close, window_length=14)\n",
        "\n",
        "    #MACD\n",
        "    MACD = get_MACD(stock_close, short_window=12, long_window=26)\n",
        "\n",
        "    #ratio close prices\n",
        "    ratio_close_price = ratio_avg_close_price(stock_close, past_days=[30])\n",
        "\n",
        "    #log_returns\n",
        "    log_returns = avg_log_returns(stock_close, avg_period=[30, 60, 80])\n",
        "\n",
        "    #volatility\n",
        "    volatility = get_volatility(stock_close, period=75)\n",
        "\n",
        "    #target data\n",
        "    target_data = create_target_data(stock_close, period=target_period, percent=target_percent)\n",
        "\n",
        "    full_df = pd.concat([label, stock_data[['Close', 'Volume']], RSI, log_returns, MACD, volatility, target_data], axis=1) #concat all together # ratio_close_price removed\n",
        "    ordered_df = ordered_df.append(full_df)\n",
        "\n",
        "\n",
        "  return ordered_df.dropna()"
      ],
      "execution_count": null,
      "outputs": []
    },
    {
      "cell_type": "code",
      "metadata": {
        "id": "fZoc6zw1LcpH"
      },
      "source": [
        "df = total_stock(['AAPL', 'TSLA'], period=\"5y\")"
      ],
      "execution_count": null,
      "outputs": []
    },
    {
      "cell_type": "markdown",
      "metadata": {
        "id": "U8fKrF2C5iIk"
      },
      "source": [
        "# Plots"
      ]
    },
    {
      "cell_type": "code",
      "metadata": {
        "id": "lWbFY-Zsf0ao",
        "colab": {
          "base_uri": "https://localhost:8080/",
          "height": 671
        },
        "outputId": "11f61a94-0526-47d1-a58b-56fba79c9a56"
      },
      "source": [
        "external_stylesheets = ['https://codepen.io/chriddyp/pen/bWLwgP.css']\n",
        "\n",
        "app = JupyterDash(external_stylesheets=external_stylesheets)\n",
        "\n",
        "percentages = [5,10,15,20]\n",
        "periods = [5,10,15,20,30,60]\n",
        "years = ['1d','5d','1mo','3mo','6mo','1y','2y','5y','10y','max']\n",
        "\n",
        "technical_indicators = ['RSI_EMA', 'MACD']\n",
        "\n",
        "other_graphs = ['ratio_close_price_5_days',\n",
        "                'ratio_close_price_10_days',    \n",
        "                'ratio_close_price_20_days',\n",
        "                'log_return_10_days',\n",
        "                'log_return_30_days', \n",
        "                'log_return_60_days',\n",
        "                'volatility']\n",
        "\n",
        "app.layout = html.Div([\n",
        "                       \n",
        "                        html.Div([\n",
        "                                  html.H5('Select the stock', style={'color': 'white'}),\n",
        "\n",
        "                                  html.Label(children=[\n",
        "                                                        dcc.Input(id='text_stock', type='text', value='AAPL'),\n",
        "                                                        html.Button(id='submit_stock', n_clicks=0, children= 'Show', style={'color':'white'})]),\n",
        "                                                       \n",
        "                                  \n",
        "                                  html.Label(dcc.Dropdown(\n",
        "                                                           id='year_dropdown',\n",
        "                                                           options=\n",
        "                                                           [{'label':year, 'value':year} for year in years],\n",
        "                                                           value=\"1y\",\n",
        "                                                           multi=False),\n",
        "                                             \n",
        "                                                      style={\"width\" : '60%'}),\n",
        "                                  \n",
        "                                  html.Br(),\n",
        "\n",
        "                                  html.Label(children=[html.Font(\"Percentage up\", style={'color':'white'}),\n",
        "                                                       dcc.Slider(id='percent_slider',\n",
        "                                                          min=min(percentages),\n",
        "                                                          max=(max(percentages)),\n",
        "                                                          step=None,\n",
        "                                                          marks={percent : {'label': str(percent) + '%', 'style':{'fontSize': 14}} for percent in percentages},\n",
        "                                                          dots=True,\n",
        "                                                          value=5,\n",
        "                                                          tooltip={'placement':'top'}\n",
        "                                                                  )\n",
        "                                                        ],\n",
        "                                             style={\n",
        "                                                 'width':'25%'\n",
        "                                                  }\n",
        "                                             ),\n",
        "                                  \n",
        "                                  html.Br(),\n",
        "\n",
        "                                          html.Label(children=[html.Font(\"Days in future\", style={'color':'white'}),\n",
        "                                          dcc.Slider(id='period_slider',\n",
        "                                          min=min(periods),\n",
        "                                          max=max(periods),\n",
        "                                          step=None,\n",
        "                                          marks={period : {'label': str(period) + ' days', 'style':{'fontSize': 14}} for period in periods},\n",
        "                                          dots=True,\n",
        "                                          value=5,\n",
        "                                          tooltip={'placement':'top'}\n",
        "                                                  )\n",
        "                                        ],\n",
        "                              style={\n",
        "                                  'width':'50%'\n",
        "                                  }\n",
        "                              ),\n",
        "                                  ]),\n",
        "                       \n",
        "\n",
        "                        html.Div(\n",
        "                        dcc.Graph(id='stock_prices'),\n",
        "                        # style={\n",
        "                        #     'float': 'right',\n",
        "                        #     'width':'70%',\n",
        "                        #     'margin': '0 1.5%'\n",
        "                        # }\n",
        "                        ),\n",
        "                       \n",
        "                       #the tech indicator graph\n",
        "                       html.Br(),\n",
        "\n",
        "                       html.Label(children=[\n",
        "                                            html.Font(\"Technical Indicator\", style={'color':'white'}),\n",
        "                                            dcc.Dropdown(id='indicator_dropdown',\n",
        "                                                         options=[{'label': \"MACD\", 'value':\"MACD\"},\n",
        "                                                                  {'label': \"RSI\", 'value':\"RSI_EMA\"}],\n",
        "                                                         value=\"MACD\",\n",
        "                                                          multi=False,\n",
        "                                                          style={\"width\" : '60%'})]\n",
        "                           ),\n",
        "\n",
        "                       html.Br(),\n",
        "\n",
        "\n",
        "                       html.Div(dcc.Graph(id='tech_indicator')),\n",
        "                                \n",
        "                      #other graphs   \n",
        "                      html.Br(),      \n",
        "                      html.Label(children=[\n",
        "                                            html.Font(\"Other graphs\", style={'color':'white'}),\n",
        "                                            dcc.Dropdown(id='dropdown_other_graphs',\n",
        "                                                         options=[{'label': x, 'value': x} for x in other_graphs],\n",
        "                                                         value=other_graphs[0],\n",
        "                                                          multi=False,\n",
        "                                                          style={\"width\" : '60%'})]\n",
        "                                ),\n",
        "\n",
        "                      html.Br(),\n",
        "\n",
        "                      html.Div(dcc.Graph(id='other_graphs'))\n",
        "\n",
        "])\n",
        "\n",
        "@app.callback(\n",
        "    Output(component_id='stock_prices', component_property='figure'),\n",
        "    Input(component_id='submit_stock', component_property='n_clicks'),\n",
        "    Input(component_id='percent_slider', component_property='value'),\n",
        "    Input(component_id='period_slider', component_property='value'),\n",
        "    Input(component_id='year_dropdown', component_property='value'),\n",
        "    State(component_id='text_stock', component_property='value'))\n",
        "\n",
        "def update_graph(n_clicks, percent, period, year, stock):\n",
        "\n",
        "  df = total_stock(stock_names=stock.split(\" \"), period=year, target_percent=percent, target_period=period) \n",
        "  #stock.split(\" \") means split every stock symbol (based on space) and make a list of the stock symbols\n",
        "\n",
        "  fig = px.line(data_frame=df,\n",
        "                x=df.index,\n",
        "                y='Close',\n",
        "                line_group='stock_name',\n",
        "                hover_name='stock_name',\n",
        "                title='Stock Closing prices',\n",
        "                color='stock_name',\n",
        "                labels={'stock_name': 'Stock', 'x': 'Date'}\n",
        "                )\n",
        "  \n",
        "  fig.add_trace(go.Scatter(x=df.loc[df['target'] == 1].index,\n",
        "                           y=df['Close'].loc[df['target'] == 1],\n",
        "                           mode='markers',\n",
        "                           name=str(percent) +  '% up in ' + str(period) + ' days',\n",
        "                           marker_color='green',\n",
        "                           marker_symbol='triangle-up',\n",
        "                           marker_size=15\n",
        "\n",
        "                           ))\n",
        "\n",
        "  #fig.update_layout(transition_duration=500)\n",
        "\n",
        "  return fig\n",
        "\n",
        "\n",
        "#RSI and MACD indicator  \n",
        "\n",
        "@app.callback(\n",
        "    Output(component_id='tech_indicator', component_property='figure'),\n",
        "    Input(component_id='submit_stock', component_property='n_clicks'),\n",
        "    Input(component_id='indicator_dropdown', component_property='value'),\n",
        "    Input(component_id='year_dropdown', component_property='value'),\n",
        "    State(component_id='text_stock', component_property='value'))\n",
        "\n",
        "def update_technical_indicator(n_clicks, indicator,year,stock):\n",
        "\n",
        "  df = total_stock(stock_names=stock.split(\" \"), period=year)\n",
        "\n",
        "  fig = px.line(data_frame=df,\n",
        "              x=df.index,\n",
        "              y= indicator,\n",
        "              line_group='stock_name',\n",
        "              hover_name='stock_name',\n",
        "              title= indicator,\n",
        "              color='stock_name',\n",
        "              labels={'stock_name': 'Stock', 'x': 'Date'})\n",
        "\n",
        "  # fig.update_layout(transition_duration=700)\n",
        "\n",
        "  return fig\n",
        "\n",
        "#other graphs\n",
        "\n",
        "@app.callback(\n",
        "    Output(component_id='other_graphs', component_property='figure'),\n",
        "    Input(component_id='submit_stock', component_property='n_clicks'),\n",
        "    Input(component_id='dropdown_other_graphs', component_property='value'),\n",
        "    Input(component_id='year_dropdown', component_property='value'),\n",
        "    State(component_id='text_stock', component_property='value'))\n",
        "\n",
        "def update_other_graphs(n_clicks, column,year,stock):\n",
        "\n",
        "  df = total_stock(stock_names=stock.split(\" \"), period=year)\n",
        "\n",
        "  fig = px.line(data_frame=df,\n",
        "              x=df.index,\n",
        "              y= column,\n",
        "              line_group='stock_name',\n",
        "              hover_name='stock_name',\n",
        "              title= column,\n",
        "              color='stock_name',\n",
        "              labels={'stock_name': 'Stock', 'x': 'Date'})\n",
        "\n",
        "  # fig.update_layout(transition_duration=700)\n",
        "\n",
        "  return fig\n",
        "\n",
        "\n",
        "if __name__ == '__main__':\n",
        "  app.run_server(mode='inline')"
      ],
      "execution_count": null,
      "outputs": [
        {
          "output_type": "display_data",
          "data": {
            "application/javascript": [
              "(async (port, path, width, height, cache, element) => {\n",
              "    if (!google.colab.kernel.accessAllowed && !cache) {\n",
              "      return;\n",
              "    }\n",
              "    element.appendChild(document.createTextNode(''));\n",
              "    const url = await google.colab.kernel.proxyPort(port, {cache});\n",
              "    const iframe = document.createElement('iframe');\n",
              "    iframe.src = url + path;\n",
              "    iframe.height = height;\n",
              "    iframe.width = width;\n",
              "    iframe.style.border = 0;\n",
              "    element.appendChild(iframe);\n",
              "  })(8050, \"/\", \"100%\", 650, false, window.element)"
            ],
            "text/plain": [
              "<IPython.core.display.Javascript object>"
            ]
          },
          "metadata": {
            "tags": []
          }
        }
      ]
    },
    {
      "cell_type": "markdown",
      "metadata": {
        "id": "ER9paey148IK"
      },
      "source": [
        "# The model"
      ]
    },
    {
      "cell_type": "markdown",
      "metadata": {
        "id": "IO7Y0Kiz0Tg9"
      },
      "source": [
        "##Import modules related to ML"
      ]
    },
    {
      "cell_type": "code",
      "metadata": {
        "id": "oJ1lhLiolhkV"
      },
      "source": [
        "# !pip install category_encoders"
      ],
      "execution_count": null,
      "outputs": []
    },
    {
      "cell_type": "code",
      "metadata": {
        "id": "cmVafVNA2s4A"
      },
      "source": [
        "from sklearn.experimental import enable_halving_search_cv\n",
        "from sklearn.model_selection import HalvingGridSearchCV\n",
        "\n",
        "from sklearn.model_selection import train_test_split\n",
        "\n",
        "from sklearn.feature_selection import SelectFromModel\n",
        "\n",
        "# from sklearn.feature_selection import SelectFromModel\n",
        "\n",
        "from sklearn.model_selection import RepeatedStratifiedKFold, cross_val_score, GridSearchCV, StratifiedKFold\n",
        "\n",
        "# from xgboost import plot_importance\n",
        "\n",
        "from sklearn.pipeline import Pipeline\n",
        "\n",
        "from sklearn.preprocessing import StandardScaler\n",
        "from sklearn.preprocessing import OneHotEncoder\n",
        "from sklearn.compose import ColumnTransformer\n",
        "\n",
        "import xgboost as xgb\n",
        "from sklearn.linear_model import LogisticRegression\n",
        "from sklearn.neighbors import KNeighborsClassifier\n",
        "from sklearn.tree import DecisionTreeClassifier\n",
        "from sklearn.ensemble import AdaBoostClassifier\n",
        "from sklearn.ensemble import GradientBoostingClassifier\n",
        "from sklearn.svm import SVC\n",
        "\n",
        "from sklearn.ensemble import RandomForestClassifier\n",
        "from sklearn.feature_selection import SelectFromModel\n",
        "\n",
        "from sklearn.metrics import f1_score\n",
        "from sklearn.metrics import classification_report\n",
        "\n",
        "from bs4 import BeautifulSoup\n",
        "import requests\n",
        "\n",
        "\n",
        "# import category_encoders as ce"
      ],
      "execution_count": null,
      "outputs": []
    },
    {
      "cell_type": "markdown",
      "metadata": {
        "id": "475VAXV23Hwh"
      },
      "source": [
        "## Webscraping to get a list of stock symbols"
      ]
    },
    {
      "cell_type": "markdown",
      "metadata": {
        "id": "OhmKiqnXAvSy"
      },
      "source": [
        "### yahoo website"
      ]
    },
    {
      "cell_type": "code",
      "metadata": {
        "id": "jLNDMx483LJh"
      },
      "source": [
        "yahoo_url = 'https://finance.yahoo.com/u/yahoo-finance/watchlists/semiconductor-stocks?guccounter=1&guce_referrer=aHR0cHM6Ly9kdWNrZHVja2dvLmNvbS8&guce_referrer_sig=AQAAAH6LL5jzXZFexJPwM7KEeX7q0OfoSOTqDP55q3zlP9SJ4O0v31RsQ_CI9r6iJEvfYUJldiRjZHUWpjN8FxtsRihrEHpN5gFP8K5WEObBIsPmAlNN0lgqNIRRboVxEuVJec45rHoH9kkgnsRCNxYC1DU7zuXS-n0lcr95TVQSg9hr'\n",
        "yahoo_page = requests.get(yahoo_url)\n",
        "yahoo_soup = BeautifulSoup(yahoo_page.content)\n",
        "symbols = yahoo_soup.select('td.data-col0.Ta(start).Pstart(6px).Pend(6px)')\n",
        "\n",
        "symbol_list = []\n",
        "\n",
        "for symbol in symbols:\n",
        "  title = symbol.select('a')[0].string\n",
        "  symbol_list.append(title)"
      ],
      "execution_count": null,
      "outputs": []
    },
    {
      "cell_type": "markdown",
      "metadata": {
        "id": "n1KLFg11Ayjz"
      },
      "source": [
        "### tradingview website"
      ]
    },
    {
      "cell_type": "code",
      "metadata": {
        "id": "BHcsraqwAq02"
      },
      "source": [
        "stock_url = \"https://www.tradingview.com/markets/stocks-usa/sectorandindustry-industry/semiconductors/\"\n",
        "req = requests.get(stock_url)\n",
        "stocks = BeautifulSoup(req.content)\n",
        "\n",
        "stock_list = []\n",
        "\n",
        "for item in stocks.select(\"a.tv-screener__symbol\"):\n",
        "  stock_list.append(item.string)"
      ],
      "execution_count": null,
      "outputs": []
    },
    {
      "cell_type": "markdown",
      "metadata": {
        "id": "npDCYlfv0XK2"
      },
      "source": [
        "## Split data"
      ]
    },
    {
      "cell_type": "code",
      "metadata": {
        "id": "bxjZRlX15AxL"
      },
      "source": [
        "# stocks = ['KLAC', 'TEL', 'IFNNY', 'NXPI', 'HNHPF', 'ADI', 'MU', 'AMD', 'AMAT', 'TSM', 'INTC', 'QCOM', 'MRVL', 'TXN', 'GRMN','NVDA', 'ASML', 'AVGO', 'TER']\n",
        "\n",
        "stocks = symbol_list\n",
        "\n",
        "def data_set(stocks):\n",
        "  # def train_test_set():\n",
        "  X = total_stock(stocks, period='5y', target_period=15, target_percent=10).drop('stock_name', axis=1)\n",
        "\n",
        "  X_train = X.loc['2016':'2020']\n",
        "  y_train = X_train.pop('target')\n",
        "\n",
        "  # take the last year to test\n",
        "  X_test = X.loc['2021':]\n",
        "  y_test = X_test.pop('target')\n",
        "\n",
        "  # numeric_columns = list(X_train.select_dtypes(np.number))\n",
        "  # cat_columns = list(X_train.select_dtypes('object'))\n",
        "\n",
        "  # full_pipe = ColumnTransformer(transformers=[\n",
        "  #                                           ('num', StandardScaler(), numeric_columns),\n",
        "  #                                           ('cat', OneHotEncoder(), cat_columns)\n",
        "  #   ])\n",
        "\n",
        "  # X_train_prepared = full_pipe.fit_transform(X_train)\n",
        "  # X_test_prepared = full_pipe.transform(X_test)\n",
        "\n",
        "  return X_train, y_train, X_test, y_test, X\n"
      ],
      "execution_count": null,
      "outputs": []
    },
    {
      "cell_type": "markdown",
      "metadata": {
        "id": "NaIctzFN0eS1"
      },
      "source": [
        "## Get estimator models"
      ]
    },
    {
      "cell_type": "code",
      "metadata": {
        "id": "xly7vua9KEGN"
      },
      "source": [
        "def get_models():\n",
        "  models = dict()\n",
        "  #models['lr'] = LogisticRegression(class_weight='balanced', random_state=42)\n",
        "  # models['knn'] = KNeighborsClassifier()\n",
        "  models['forest'] = RandomForestClassifier(class_weight='balanced')\n",
        "  # models['xgb'] = xgboost.XGBClassifier(scale_pos_weight=10)\n",
        "  # models['tree'] = DecisionTreeClassifier(class_weight='balanced')\n",
        "  # models['svc'] = SVC(class_weight='balanced')\n",
        "  # models['ada'] = AdaBoostClassifier()\n",
        "  # models['gradient'] = GradientBoostingClassifier()\n",
        "  return models"
      ],
      "execution_count": null,
      "outputs": []
    },
    {
      "cell_type": "code",
      "metadata": {
        "id": "PMjmdOgLNE-Q"
      },
      "source": [
        "def evaluate_model(model, X,y):\n",
        "  cv = RepeatedStratifiedKFold(n_splits=5,n_repeats=10, random_state=42)\n",
        "  scores = cross_val_score(model, X, y, scoring='precision', cv=cv, n_jobs=-1)\n",
        "\n",
        "  return scores"
      ],
      "execution_count": null,
      "outputs": []
    },
    {
      "cell_type": "markdown",
      "metadata": {
        "id": "NuiujBuE-4RT"
      },
      "source": [
        "## Check different models"
      ]
    },
    {
      "cell_type": "code",
      "metadata": {
        "id": "Rjr7sBpD-z5v"
      },
      "source": [
        "X_train, y_train, X_test, y_test = data_set(stocks)\n",
        "models = get_models()\n",
        "\n",
        "# evaluate the models and store results\n",
        "results, names = list(), list()\n",
        "for name, model in models.items():\n",
        "  scores = evaluate_model(model, X_train_prepared, y_train)\n",
        "  results.append(scores)\n",
        "  names.append(name)\n",
        "  print('>%s %.3f (%.3f)' % (name, np.mean(scores), np.std(scores)))\n",
        " \n",
        "# plot model performance for comparison\n",
        "plt.boxplot(results, labels=names, showmeans=True)\n",
        "plt.show()"
      ],
      "execution_count": null,
      "outputs": []
    },
    {
      "cell_type": "markdown",
      "metadata": {
        "id": "xgXEK_Mv6SL6"
      },
      "source": [
        "## Random Forest Classifier"
      ]
    },
    {
      "cell_type": "code",
      "metadata": {
        "id": "jirg-HZ7lze5"
      },
      "source": [
        "X_train, y_train, X_test, y_test, X = data_set(stocks)\n",
        "model = RandomForestClassifier(class_weight='balanced', n_estimators=100)\n",
        "\n",
        "cv = StratifiedKFold()\n",
        "score = cross_val_score(model, X_train, y_train, scoring='precision', cv=cv, n_jobs=-1, verbose=1)\n",
        "\n",
        "# search = HalvingGridSearchCV(model, params, resource='n_estimators', min_resources=50, max_resources=500, scoring='precision', n_jobs=-1, verbose=2, random_state=42, cv=cv)\n",
        "# params are the standard params\n",
        "\n",
        "# search_fit = search.fit(X_train, y_train)"
      ],
      "execution_count": null,
      "outputs": []
    },
    {
      "cell_type": "code",
      "metadata": {
        "colab": {
          "base_uri": "https://localhost:8080/"
        },
        "id": "qCGrgf38gK4x",
        "outputId": "13593906-c6ac-46e5-f503-84720d5e7134"
      },
      "source": [
        "model_features_imp = RandomForestClassifier(class_weight='balanced')\n",
        "model_features_imp.fit(X_train, y_train)\n",
        "\n",
        "\n",
        "feature_importance = model_features_imp.feature_importances_\n",
        "sorted(zip(feature_importance, list(X)), reverse=True)\n",
        "\n"
      ],
      "execution_count": null,
      "outputs": [
        {
          "output_type": "execute_result",
          "data": {
            "text/plain": [
              "[(0.20749011470099402, 'volatility'),\n",
              " (0.14647617850130537, 'Close'),\n",
              " (0.11194443672152056, 'Volume'),\n",
              " (0.11174030354128414, 'log_return_60_days'),\n",
              " (0.11052021610438663, 'log_return_80_days'),\n",
              " (0.1089816430561751, 'MACD'),\n",
              " (0.10402956819811787, 'log_return_30_days'),\n",
              " (0.09881753917621641, 'RSI_EMA')]"
            ]
          },
          "metadata": {
            "tags": []
          },
          "execution_count": 89
        }
      ]
    },
    {
      "cell_type": "code",
      "metadata": {
        "colab": {
          "base_uri": "https://localhost:8080/",
          "height": 282
        },
        "id": "fCTftbgPhiMA",
        "outputId": "f9d2f02e-3b7f-44dc-ba2b-de6b545a3ba0"
      },
      "source": [
        "%matplotlib inline\n",
        "\n",
        "(pd.Series(feature_importance, index=list(X.drop('target', axis=1)))\n",
        "    .plot(kind='barh'))"
      ],
      "execution_count": null,
      "outputs": [
        {
          "output_type": "execute_result",
          "data": {
            "text/plain": [
              "<matplotlib.axes._subplots.AxesSubplot at 0x7f732a216e90>"
            ]
          },
          "metadata": {
            "tags": []
          },
          "execution_count": 90
        },
        {
          "output_type": "display_data",
          "data": {
            "image/png": "[encoded data removed]",
            "text/plain": [
              "<Figure size 432x288 with 1 Axes>"
            ]
          },
          "metadata": {
            "tags": [],
            "needs_background": "light"
          }
        }
      ]
    }
  ]
}